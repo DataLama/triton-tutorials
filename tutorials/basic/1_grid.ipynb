{
  "nbformat": 4,
  "nbformat_minor": 0,
  "metadata": {
    "colab": {
      "provenance": [],
      "gpuType": "T4",
      "authorship_tag": "ABX9TyOEv8vejGhMpB2KPKnK9OaT",
      "include_colab_link": true
    },
    "kernelspec": {
      "name": "python3",
      "display_name": "Python 3"
    },
    "language_info": {
      "name": "python"
    },
    "accelerator": "GPU"
  },
  "cells": [
    {
      "cell_type": "markdown",
      "metadata": {
        "id": "view-in-github",
        "colab_type": "text"
      },
      "source": [
        "<a href=\"https://colab.research.google.com/github/DataLama/triton-tutorials/blob/main/tutorials/basic/1_grid.ipynb\" target=\"_parent\"><img src=\"https://colab.research.google.com/assets/colab-badge.svg\" alt=\"Open In Colab\"/></a>"
      ]
    },
    {
      "cell_type": "code",
      "source": [
        "!pip show torch\n",
        "!pip show triton"
      ],
      "metadata": {
        "colab": {
          "base_uri": "https://localhost:8080/"
        },
        "id": "yLoN0XeGHpvv",
        "outputId": "39c569ef-3758-462a-97bc-08e382a0a32a"
      },
      "execution_count": 1,
      "outputs": [
        {
          "output_type": "stream",
          "name": "stdout",
          "text": [
            "Name: torch\n",
            "Version: 2.2.1+cu121\n",
            "Summary: Tensors and Dynamic neural networks in Python with strong GPU acceleration\n",
            "Home-page: https://pytorch.org/\n",
            "Author: PyTorch Team\n",
            "Author-email: packages@pytorch.org\n",
            "License: BSD-3\n",
            "Location: /usr/local/lib/python3.10/dist-packages\n",
            "Requires: filelock, fsspec, jinja2, networkx, nvidia-cublas-cu12, nvidia-cuda-cupti-cu12, nvidia-cuda-nvrtc-cu12, nvidia-cuda-runtime-cu12, nvidia-cudnn-cu12, nvidia-cufft-cu12, nvidia-curand-cu12, nvidia-cusolver-cu12, nvidia-cusparse-cu12, nvidia-nccl-cu12, nvidia-nvtx-cu12, sympy, triton, typing-extensions\n",
            "Required-by: fastai, torchaudio, torchdata, torchtext, torchvision\n",
            "Name: triton\n",
            "Version: 2.2.0\n",
            "Summary: A language and compiler for custom Deep Learning operations\n",
            "Home-page: https://github.com/openai/triton/\n",
            "Author: Philippe Tillet\n",
            "Author-email: phil@openai.com\n",
            "License: \n",
            "Location: /usr/local/lib/python3.10/dist-packages\n",
            "Requires: filelock\n",
            "Required-by: torch\n"
          ]
        }
      ]
    },
    {
      "cell_type": "markdown",
      "source": [
        "----"
      ],
      "metadata": {
        "id": "pS6rhIf6Hq3J"
      }
    },
    {
      "cell_type": "code",
      "execution_count": 15,
      "metadata": {
        "colab": {
          "base_uri": "https://localhost:8080/"
        },
        "id": "A6BGLfMqHZbr",
        "outputId": "8ad1392f-8ef8-4b46-f3e7-0ebdabc3c688"
      },
      "outputs": [
        {
          "output_type": "stream",
          "name": "stdout",
          "text": [
            "Overwriting 1_grid.py\n"
          ]
        }
      ],
      "source": [
        "%%writefile 1_grid.py\n",
        "from typing import Dict, Tuple, Optional\n",
        "from argparse import ArgumentParser\n",
        "\n",
        "import triton\n",
        "import triton.language as tl\n",
        "\n",
        "@triton.jit\n",
        "def print_grid():\n",
        "  x_pid = tl.program_id(0) # x축의 프로세스 아이디\n",
        "  y_pid = tl.program_id(1) # y축의 프로세스 아이디\n",
        "  z_pid = tl.program_id(2) # z축의 프로세스 아이디\n",
        "  tl.device_print(\"x_pid: \", x_pid)\n",
        "  tl.device_print(\"y_pid: \", y_pid)\n",
        "  tl.device_print(\"z_pid: \", z_pid)\n",
        "\n",
        "if __name__ == \"__main__\":\n",
        "  parser = ArgumentParser()\n",
        "  parser.add_argument(\"--x_grid\", type=int, default=1)\n",
        "  parser.add_argument(\"--y_grid\", type=int, default=1)\n",
        "  parser.add_argument(\"--z_grid\", type=int, default=1)\n",
        "  args = parser.parse_args()\n",
        "\n",
        "  x_grid = args.x_grid\n",
        "  y_grid = args.y_grid\n",
        "  z_grid = args.z_grid\n",
        "\n",
        "\n",
        "  def grid(meta:Dict)->Tuple[int, Optional[int], Optional[int]]:\n",
        "      \"\"\"\n",
        "      Args: meta는 그리드를 결정하는데 사용할 수 있는 meta 정보\n",
        "      \"\"\"\n",
        "      return (x_grid, y_grid, z_grid)\n",
        "\n",
        "  print_grid[grid]()"
      ]
    },
    {
      "cell_type": "code",
      "source": [
        "# grid (1,)\n",
        "!python 1_grid.py --x_grid=1 | wc -l"
      ],
      "metadata": {
        "colab": {
          "base_uri": "https://localhost:8080/"
        },
        "id": "Srb7zj6bIv4n",
        "outputId": "a2670b59-6d76-4fd3-ca74-ea841b4c82fb"
      },
      "execution_count": 18,
      "outputs": [
        {
          "output_type": "stream",
          "name": "stdout",
          "text": [
            "384\n"
          ]
        }
      ]
    },
    {
      "cell_type": "code",
      "source": [
        "# grid (4, 2)\n",
        "!python 1_grid.py --x_grid=4 --y_grid=2 | wc -l"
      ],
      "metadata": {
        "colab": {
          "base_uri": "https://localhost:8080/"
        },
        "id": "Q_4UY_VuLB9T",
        "outputId": "5dc6d7a6-bad1-4f5c-882d-eb842d35d4e6"
      },
      "execution_count": 19,
      "outputs": [
        {
          "output_type": "stream",
          "name": "stdout",
          "text": [
            "3072\n"
          ]
        }
      ]
    },
    {
      "cell_type": "code",
      "source": [
        "!python 1_grid.py --x_grid=4 --y_grid=2 | sort | uniq"
      ],
      "metadata": {
        "colab": {
          "base_uri": "https://localhost:8080/"
        },
        "id": "76fkL2S6Hn9A",
        "outputId": "83b6b367-9e06-4ad5-ee83-a5e7a4eae964"
      },
      "execution_count": 20,
      "outputs": [
        {
          "output_type": "stream",
          "name": "stdout",
          "text": [
            "pid (0, 0, 0) idx () x_pid: 0\n",
            "pid (0, 0, 0) idx () y_pid: 0\n",
            "pid (0, 0, 0) idx () z_pid: 0\n",
            "pid (0, 1, 0) idx () x_pid: 0\n",
            "pid (0, 1, 0) idx () y_pid: 1\n",
            "pid (0, 1, 0) idx () z_pid: 0\n",
            "pid (1, 0, 0) idx () x_pid: 1\n",
            "pid (1, 0, 0) idx () y_pid: 0\n",
            "pid (1, 0, 0) idx () z_pid: 0\n",
            "pid (1, 1, 0) idx () x_pid: 1\n",
            "pid (1, 1, 0) idx () y_pid: 1\n",
            "pid (1, 1, 0) idx () z_pid: 0\n",
            "pid (2, 0, 0) idx () x_pid: 2\n",
            "pid (2, 0, 0) idx () y_pid: 0\n",
            "pid (2, 0, 0) idx () z_pid: 0\n",
            "pid (2, 1, 0) idx () x_pid: 2\n",
            "pid (2, 1, 0) idx () y_pid: 1\n",
            "pid (2, 1, 0) idx () z_pid: 0\n",
            "pid (3, 0, 0) idx () x_pid: 3\n",
            "pid (3, 0, 0) idx () y_pid: 0\n",
            "pid (3, 0, 0) idx () z_pid: 0\n",
            "pid (3, 1, 0) idx () x_pid: 3\n",
            "pid (3, 1, 0) idx () y_pid: 1\n",
            "pid (3, 1, 0) idx () z_pid: 0\n"
          ]
        }
      ]
    }
  ]
}