{
  "nbformat": 4,
  "nbformat_minor": 0,
  "metadata": {
    "colab": {
      "provenance": [],
      "gpuType": "T4",
      "authorship_tag": "ABX9TyOPzu01ZnOhfk7wbcYV87Ox",
      "include_colab_link": true
    },
    "kernelspec": {
      "name": "python3",
      "display_name": "Python 3"
    },
    "language_info": {
      "name": "python"
    },
    "accelerator": "GPU"
  },
  "cells": [
    {
      "cell_type": "markdown",
      "metadata": {
        "id": "view-in-github",
        "colab_type": "text"
      },
      "source": [
        "<a href=\"https://colab.research.google.com/github/DataLama/triton-tutorials/blob/main/tutorials/basic/0_hello_triton.ipynb\" target=\"_parent\"><img src=\"https://colab.research.google.com/assets/colab-badge.svg\" alt=\"Open In Colab\"/></a>"
      ]
    },
    {
      "cell_type": "code",
      "source": [
        "!pip show torch\n",
        "!pip show triton"
      ],
      "metadata": {
        "colab": {
          "base_uri": "https://localhost:8080/"
        },
        "id": "YxFeITQlqHYA",
        "outputId": "ed32ea32-39f1-4939-a67c-0ba93a70508b"
      },
      "execution_count": 1,
      "outputs": [
        {
          "output_type": "stream",
          "name": "stdout",
          "text": [
            "Name: torch\n",
            "Version: 2.2.1+cu121\n",
            "Summary: Tensors and Dynamic neural networks in Python with strong GPU acceleration\n",
            "Home-page: https://pytorch.org/\n",
            "Author: PyTorch Team\n",
            "Author-email: packages@pytorch.org\n",
            "License: BSD-3\n",
            "Location: /usr/local/lib/python3.10/dist-packages\n",
            "Requires: filelock, fsspec, jinja2, networkx, nvidia-cublas-cu12, nvidia-cuda-cupti-cu12, nvidia-cuda-nvrtc-cu12, nvidia-cuda-runtime-cu12, nvidia-cudnn-cu12, nvidia-cufft-cu12, nvidia-curand-cu12, nvidia-cusolver-cu12, nvidia-cusparse-cu12, nvidia-nccl-cu12, nvidia-nvtx-cu12, sympy, triton, typing-extensions\n",
            "Required-by: fastai, torchaudio, torchdata, torchtext, torchvision\n",
            "Name: triton\n",
            "Version: 2.2.0\n",
            "Summary: A language and compiler for custom Deep Learning operations\n",
            "Home-page: https://github.com/openai/triton/\n",
            "Author: Philippe Tillet\n",
            "Author-email: phil@openai.com\n",
            "License: \n",
            "Location: /usr/local/lib/python3.10/dist-packages\n",
            "Requires: filelock\n",
            "Required-by: torch\n"
          ]
        }
      ]
    },
    {
      "cell_type": "markdown",
      "source": [
        "---"
      ],
      "metadata": {
        "id": "jQXRk8XIqZuf"
      }
    },
    {
      "cell_type": "markdown",
      "source": [
        "### Hello triton in colab"
      ],
      "metadata": {
        "id": "AHOsOsZ6tLVf"
      }
    },
    {
      "cell_type": "markdown",
      "source": [
        "* write the triton code.\n",
        "* save the triton code with jupyter lab's magic command."
      ],
      "metadata": {
        "id": "zY7BwMrsGNl7"
      }
    },
    {
      "cell_type": "code",
      "source": [
        "%%writefile hello_triton.py\n",
        "\n",
        "import triton\n",
        "import triton.language as tl\n",
        "\n",
        "@triton.jit\n",
        "def hello_triton():\n",
        "    tl.device_print(\"Hello Triton!\")\n",
        "\n",
        "if __name__ == \"__main__\":\n",
        "    hello_triton[(1,)]()"
      ],
      "metadata": {
        "colab": {
          "base_uri": "https://localhost:8080/"
        },
        "id": "1oq_ASFaF3RU",
        "outputId": "b9a09eb2-a0ce-47c7-8994-562d3efb8744"
      },
      "execution_count": 3,
      "outputs": [
        {
          "output_type": "stream",
          "name": "stdout",
          "text": [
            "Writing hello_triton.py\n"
          ]
        }
      ]
    },
    {
      "cell_type": "markdown",
      "source": [
        "* run triton with shell python shell command."
      ],
      "metadata": {
        "id": "KTcVsBceG1qS"
      }
    },
    {
      "cell_type": "code",
      "source": [
        "!python hello_triton.py"
      ],
      "metadata": {
        "colab": {
          "base_uri": "https://localhost:8080/"
        },
        "id": "UiRIYIhJF5So",
        "outputId": "4b66055a-9ff2-4dad-be7f-c52c051941b6"
      },
      "execution_count": 4,
      "outputs": [
        {
          "output_type": "stream",
          "name": "stdout",
          "text": [
            "pid (0, 0, 0) Hello Triton!\n",
            "pid (0, 0, 0) Hello Triton!\n",
            "pid (0, 0, 0) Hello Triton!\n",
            "pid (0, 0, 0) Hello Triton!\n",
            "pid (0, 0, 0) Hello Triton!\n",
            "pid (0, 0, 0) Hello Triton!\n",
            "pid (0, 0, 0) Hello Triton!\n",
            "pid (0, 0, 0) Hello Triton!\n",
            "pid (0, 0, 0) Hello Triton!\n",
            "pid (0, 0, 0) Hello Triton!\n",
            "pid (0, 0, 0) Hello Triton!\n",
            "pid (0, 0, 0) Hello Triton!\n",
            "pid (0, 0, 0) Hello Triton!\n",
            "pid (0, 0, 0) Hello Triton!\n",
            "pid (0, 0, 0) Hello Triton!\n",
            "pid (0, 0, 0) Hello Triton!\n",
            "pid (0, 0, 0) Hello Triton!\n",
            "pid (0, 0, 0) Hello Triton!\n",
            "pid (0, 0, 0) Hello Triton!\n",
            "pid (0, 0, 0) Hello Triton!\n",
            "pid (0, 0, 0) Hello Triton!\n",
            "pid (0, 0, 0) Hello Triton!\n",
            "pid (0, 0, 0) Hello Triton!\n",
            "pid (0, 0, 0) Hello Triton!\n",
            "pid (0, 0, 0) Hello Triton!\n",
            "pid (0, 0, 0) Hello Triton!\n",
            "pid (0, 0, 0) Hello Triton!\n",
            "pid (0, 0, 0) Hello Triton!\n",
            "pid (0, 0, 0) Hello Triton!\n",
            "pid (0, 0, 0) Hello Triton!\n",
            "pid (0, 0, 0) Hello Triton!\n",
            "pid (0, 0, 0) Hello Triton!\n",
            "pid (0, 0, 0) Hello Triton!\n",
            "pid (0, 0, 0) Hello Triton!\n",
            "pid (0, 0, 0) Hello Triton!\n",
            "pid (0, 0, 0) Hello Triton!\n",
            "pid (0, 0, 0) Hello Triton!\n",
            "pid (0, 0, 0) Hello Triton!\n",
            "pid (0, 0, 0) Hello Triton!\n",
            "pid (0, 0, 0) Hello Triton!\n",
            "pid (0, 0, 0) Hello Triton!\n",
            "pid (0, 0, 0) Hello Triton!\n",
            "pid (0, 0, 0) Hello Triton!\n",
            "pid (0, 0, 0) Hello Triton!\n",
            "pid (0, 0, 0) Hello Triton!\n",
            "pid (0, 0, 0) Hello Triton!\n",
            "pid (0, 0, 0) Hello Triton!\n",
            "pid (0, 0, 0) Hello Triton!\n",
            "pid (0, 0, 0) Hello Triton!\n",
            "pid (0, 0, 0) Hello Triton!\n",
            "pid (0, 0, 0) Hello Triton!\n",
            "pid (0, 0, 0) Hello Triton!\n",
            "pid (0, 0, 0) Hello Triton!\n",
            "pid (0, 0, 0) Hello Triton!\n",
            "pid (0, 0, 0) Hello Triton!\n",
            "pid (0, 0, 0) Hello Triton!\n",
            "pid (0, 0, 0) Hello Triton!\n",
            "pid (0, 0, 0) Hello Triton!\n",
            "pid (0, 0, 0) Hello Triton!\n",
            "pid (0, 0, 0) Hello Triton!\n",
            "pid (0, 0, 0) Hello Triton!\n",
            "pid (0, 0, 0) Hello Triton!\n",
            "pid (0, 0, 0) Hello Triton!\n",
            "pid (0, 0, 0) Hello Triton!\n",
            "pid (0, 0, 0) Hello Triton!\n",
            "pid (0, 0, 0) Hello Triton!\n",
            "pid (0, 0, 0) Hello Triton!\n",
            "pid (0, 0, 0) Hello Triton!\n",
            "pid (0, 0, 0) Hello Triton!\n",
            "pid (0, 0, 0) Hello Triton!\n",
            "pid (0, 0, 0) Hello Triton!\n",
            "pid (0, 0, 0) Hello Triton!\n",
            "pid (0, 0, 0) Hello Triton!\n",
            "pid (0, 0, 0) Hello Triton!\n",
            "pid (0, 0, 0) Hello Triton!\n",
            "pid (0, 0, 0) Hello Triton!\n",
            "pid (0, 0, 0) Hello Triton!\n",
            "pid (0, 0, 0) Hello Triton!\n",
            "pid (0, 0, 0) Hello Triton!\n",
            "pid (0, 0, 0) Hello Triton!\n",
            "pid (0, 0, 0) Hello Triton!\n",
            "pid (0, 0, 0) Hello Triton!\n",
            "pid (0, 0, 0) Hello Triton!\n",
            "pid (0, 0, 0) Hello Triton!\n",
            "pid (0, 0, 0) Hello Triton!\n",
            "pid (0, 0, 0) Hello Triton!\n",
            "pid (0, 0, 0) Hello Triton!\n",
            "pid (0, 0, 0) Hello Triton!\n",
            "pid (0, 0, 0) Hello Triton!\n",
            "pid (0, 0, 0) Hello Triton!\n",
            "pid (0, 0, 0) Hello Triton!\n",
            "pid (0, 0, 0) Hello Triton!\n",
            "pid (0, 0, 0) Hello Triton!\n",
            "pid (0, 0, 0) Hello Triton!\n",
            "pid (0, 0, 0) Hello Triton!\n",
            "pid (0, 0, 0) Hello Triton!\n",
            "pid (0, 0, 0) Hello Triton!\n",
            "pid (0, 0, 0) Hello Triton!\n",
            "pid (0, 0, 0) Hello Triton!\n",
            "pid (0, 0, 0) Hello Triton!\n",
            "pid (0, 0, 0) Hello Triton!\n",
            "pid (0, 0, 0) Hello Triton!\n",
            "pid (0, 0, 0) Hello Triton!\n",
            "pid (0, 0, 0) Hello Triton!\n",
            "pid (0, 0, 0) Hello Triton!\n",
            "pid (0, 0, 0) Hello Triton!\n",
            "pid (0, 0, 0) Hello Triton!\n",
            "pid (0, 0, 0) Hello Triton!\n",
            "pid (0, 0, 0) Hello Triton!\n",
            "pid (0, 0, 0) Hello Triton!\n",
            "pid (0, 0, 0) Hello Triton!\n",
            "pid (0, 0, 0) Hello Triton!\n",
            "pid (0, 0, 0) Hello Triton!\n",
            "pid (0, 0, 0) Hello Triton!\n",
            "pid (0, 0, 0) Hello Triton!\n",
            "pid (0, 0, 0) Hello Triton!\n",
            "pid (0, 0, 0) Hello Triton!\n",
            "pid (0, 0, 0) Hello Triton!\n",
            "pid (0, 0, 0) Hello Triton!\n",
            "pid (0, 0, 0) Hello Triton!\n",
            "pid (0, 0, 0) Hello Triton!\n",
            "pid (0, 0, 0) Hello Triton!\n",
            "pid (0, 0, 0) Hello Triton!\n",
            "pid (0, 0, 0) Hello Triton!\n",
            "pid (0, 0, 0) Hello Triton!\n",
            "pid (0, 0, 0) Hello Triton!\n",
            "pid (0, 0, 0) Hello Triton!\n",
            "pid (0, 0, 0) Hello Triton!\n"
          ]
        }
      ]
    }
  ]
}